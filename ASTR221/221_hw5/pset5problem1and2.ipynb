{
 "cells": [
  {
   "cell_type": "code",
   "execution_count": null,
   "metadata": {},
   "outputs": [],
   "source": [
    "#garcia, gil\n",
    "#astr221 - hw5\n",
    "#4/18/2019"
   ]
  },
  {
   "cell_type": "code",
   "execution_count": 5,
   "metadata": {},
   "outputs": [],
   "source": [
    "import matplotlib.pyplot as plt\n",
    "import numpy as np"
   ]
  },
  {
   "cell_type": "markdown",
   "metadata": {},
   "source": [
    "Average star mass: $0.5M_{\\odot}$"
   ]
  },
  {
   "cell_type": "markdown",
   "metadata": {},
   "source": [
    "$ M_{\\odot}^{\\frac{1}{8}} = R_{\\odot}$\n",
    "\n",
    "Thus, average star radius = $0.57 R_{\\odot}$ = $ 1.289\\times 10^{-8}$pc"
   ]
  },
  {
   "cell_type": "markdown",
   "metadata": {},
   "source": [
    "Strong encounter time equation:\n",
    "\n",
    "$$\n",
    "t_s = \\frac{1}{\\pi r^2 v n}\n",
    "$$"
   ]
  },
  {
   "cell_type": "code",
   "execution_count": 121,
   "metadata": {},
   "outputs": [],
   "source": [
    "def encounter_time(velocity,stellar_density,radius=1.289e-8):\n",
    "    denom = np.pi * (radius)**2 * (velocity) * stellar_density\n",
    "    to_years = 60*60*24*365.25\n",
    "    return 1 / (denom) / to_years, 'years'"
   ]
  },
  {
   "cell_type": "code",
   "execution_count": 122,
   "metadata": {},
   "outputs": [],
   "source": [
    "#scenario = [n,v]\n",
    "core_open = [100 , 3.24e-13] #10km/sec\n",
    "total_open = [10,3.24e-14] #1 km/sec\n",
    "core_globular = [10**5,1.62e-12] # 50km/s\n",
    "total_globular = [10**4,3.24e-13] #10km/sec"
   ]
  },
  {
   "cell_type": "code",
   "execution_count": 123,
   "metadata": {},
   "outputs": [],
   "source": [
    "all = [core_open,total_open,core_globular,total_globular]"
   ]
  },
  {
   "cell_type": "code",
   "execution_count": 124,
   "metadata": {},
   "outputs": [
    {
     "name": "stdout",
     "output_type": "stream",
     "text": [
      "(1.8736795436797348e+18, 'years')\n",
      "(1.8736795436797346e+20, 'years')\n",
      "(374735908735946.9, 'years')\n",
      "(1.8736795436797344e+16, 'years')\n"
     ]
    }
   ],
   "source": [
    "for element in all:\n",
    "    print(encounter_time(element[1],element[0]))"
   ]
  },
  {
   "cell_type": "code",
   "execution_count": null,
   "metadata": {},
   "outputs": [],
   "source": []
  },
  {
   "cell_type": "code",
   "execution_count": null,
   "metadata": {},
   "outputs": [],
   "source": []
  }
 ],
 "metadata": {
  "kernelspec": {
   "display_name": "Python 3",
   "language": "python",
   "name": "python3"
  },
  "language_info": {
   "codemirror_mode": {
    "name": "ipython",
    "version": 3
   },
   "file_extension": ".py",
   "mimetype": "text/x-python",
   "name": "python",
   "nbconvert_exporter": "python",
   "pygments_lexer": "ipython3",
   "version": "3.7.3"
  }
 },
 "nbformat": 4,
 "nbformat_minor": 2
}
